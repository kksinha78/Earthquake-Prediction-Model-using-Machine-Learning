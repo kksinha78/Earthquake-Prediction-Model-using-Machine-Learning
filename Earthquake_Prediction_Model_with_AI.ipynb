{
  "cells": [
    {
      "cell_type": "code",
      "execution_count": 41,
      "metadata": {
        "id": "3e16d669"
      },
      "outputs": [],
      "source": [
        "import numpy as np\n",
        "import pandas as pd\n",
        "import matplotlib.pyplot as plt\n",
        "\n",
        "%matplotlib inline\n",
        "import datetime\n",
        "import time\n",
        "import warnings\n",
        "warnings.filterwarnings('ignore')\n",
        "\n",
        "import tensorflow as tf\n",
        "from keras.callbacks import EarlyStopping\n"
      ],
      "id": "3e16d669"
    },
    {
      "cell_type": "code",
      "execution_count": 42,
      "metadata": {
        "colab": {
          "base_uri": "https://localhost:8080/"
        },
        "id": "GMxnB9xoMVld",
        "outputId": "1fada60d-1b3f-433b-8fa2-5a1f6a68369e"
      },
      "outputs": [
        {
          "output_type": "stream",
          "name": "stdout",
          "text": [
            "Drive already mounted at /gdrive; to attempt to forcibly remount, call drive.mount(\"/gdrive\", force_remount=True).\n"
          ]
        }
      ],
      "source": [
        "from google.colab import drive\n",
        "drive.mount('/gdrive')"
      ],
      "id": "GMxnB9xoMVld"
    },
    {
      "cell_type": "code",
      "execution_count": 43,
      "metadata": {
        "id": "ea34f596"
      },
      "outputs": [],
      "source": [
        "#data = pd.read_csv(r'C:\\Users\\ekrsinh\\OneDrive - Ericsson\\Documents\\Modelling_other\\Earthquake Prediction Model with AI\\silver.csv')\n",
        "data  = pd.read_csv('/gdrive/My Drive/Colab Notebooks/Earthquake Prediction Model with AI/silver.csv')"
      ],
      "id": "ea34f596"
    },
    {
      "cell_type": "code",
      "execution_count": 44,
      "metadata": {
        "colab": {
          "base_uri": "https://localhost:8080/",
          "height": 206
        },
        "id": "46ad64c4",
        "outputId": "142345cd-0434-45b5-ec1e-3d8d8f293bb8"
      },
      "outputs": [
        {
          "output_type": "execute_result",
          "data": {
            "text/plain": [
              "    latitude  longitude   depth   mag          id  hour        date\n",
              "0  34.189835 -117.58800   6.000  1.70  ci12317071     0  1973-01-01\n",
              "1  -9.214000  150.63400  41.000  5.30  usp0000001     3  1973-01-01\n",
              "2  48.308666 -122.11733  13.680  2.20  uw10840118     4  1973-01-01\n",
              "3 -15.012000 -173.95800  33.000  5.00  usp0000002     5  1973-01-01\n",
              "4  19.443666 -155.36084   7.302  1.85  hv19723167     7  1973-01-01"
            ],
            "text/html": [
              "\n",
              "  <div id=\"df-03577d6f-49cc-4d91-912a-020289c39c41\">\n",
              "    <div class=\"colab-df-container\">\n",
              "      <div>\n",
              "<style scoped>\n",
              "    .dataframe tbody tr th:only-of-type {\n",
              "        vertical-align: middle;\n",
              "    }\n",
              "\n",
              "    .dataframe tbody tr th {\n",
              "        vertical-align: top;\n",
              "    }\n",
              "\n",
              "    .dataframe thead th {\n",
              "        text-align: right;\n",
              "    }\n",
              "</style>\n",
              "<table border=\"1\" class=\"dataframe\">\n",
              "  <thead>\n",
              "    <tr style=\"text-align: right;\">\n",
              "      <th></th>\n",
              "      <th>latitude</th>\n",
              "      <th>longitude</th>\n",
              "      <th>depth</th>\n",
              "      <th>mag</th>\n",
              "      <th>id</th>\n",
              "      <th>hour</th>\n",
              "      <th>date</th>\n",
              "    </tr>\n",
              "  </thead>\n",
              "  <tbody>\n",
              "    <tr>\n",
              "      <th>0</th>\n",
              "      <td>34.189835</td>\n",
              "      <td>-117.58800</td>\n",
              "      <td>6.000</td>\n",
              "      <td>1.70</td>\n",
              "      <td>ci12317071</td>\n",
              "      <td>0</td>\n",
              "      <td>1973-01-01</td>\n",
              "    </tr>\n",
              "    <tr>\n",
              "      <th>1</th>\n",
              "      <td>-9.214000</td>\n",
              "      <td>150.63400</td>\n",
              "      <td>41.000</td>\n",
              "      <td>5.30</td>\n",
              "      <td>usp0000001</td>\n",
              "      <td>3</td>\n",
              "      <td>1973-01-01</td>\n",
              "    </tr>\n",
              "    <tr>\n",
              "      <th>2</th>\n",
              "      <td>48.308666</td>\n",
              "      <td>-122.11733</td>\n",
              "      <td>13.680</td>\n",
              "      <td>2.20</td>\n",
              "      <td>uw10840118</td>\n",
              "      <td>4</td>\n",
              "      <td>1973-01-01</td>\n",
              "    </tr>\n",
              "    <tr>\n",
              "      <th>3</th>\n",
              "      <td>-15.012000</td>\n",
              "      <td>-173.95800</td>\n",
              "      <td>33.000</td>\n",
              "      <td>5.00</td>\n",
              "      <td>usp0000002</td>\n",
              "      <td>5</td>\n",
              "      <td>1973-01-01</td>\n",
              "    </tr>\n",
              "    <tr>\n",
              "      <th>4</th>\n",
              "      <td>19.443666</td>\n",
              "      <td>-155.36084</td>\n",
              "      <td>7.302</td>\n",
              "      <td>1.85</td>\n",
              "      <td>hv19723167</td>\n",
              "      <td>7</td>\n",
              "      <td>1973-01-01</td>\n",
              "    </tr>\n",
              "  </tbody>\n",
              "</table>\n",
              "</div>\n",
              "      <button class=\"colab-df-convert\" onclick=\"convertToInteractive('df-03577d6f-49cc-4d91-912a-020289c39c41')\"\n",
              "              title=\"Convert this dataframe to an interactive table.\"\n",
              "              style=\"display:none;\">\n",
              "        \n",
              "  <svg xmlns=\"http://www.w3.org/2000/svg\" height=\"24px\"viewBox=\"0 0 24 24\"\n",
              "       width=\"24px\">\n",
              "    <path d=\"M0 0h24v24H0V0z\" fill=\"none\"/>\n",
              "    <path d=\"M18.56 5.44l.94 2.06.94-2.06 2.06-.94-2.06-.94-.94-2.06-.94 2.06-2.06.94zm-11 1L8.5 8.5l.94-2.06 2.06-.94-2.06-.94L8.5 2.5l-.94 2.06-2.06.94zm10 10l.94 2.06.94-2.06 2.06-.94-2.06-.94-.94-2.06-.94 2.06-2.06.94z\"/><path d=\"M17.41 7.96l-1.37-1.37c-.4-.4-.92-.59-1.43-.59-.52 0-1.04.2-1.43.59L10.3 9.45l-7.72 7.72c-.78.78-.78 2.05 0 2.83L4 21.41c.39.39.9.59 1.41.59.51 0 1.02-.2 1.41-.59l7.78-7.78 2.81-2.81c.8-.78.8-2.07 0-2.86zM5.41 20L4 18.59l7.72-7.72 1.47 1.35L5.41 20z\"/>\n",
              "  </svg>\n",
              "      </button>\n",
              "      \n",
              "  <style>\n",
              "    .colab-df-container {\n",
              "      display:flex;\n",
              "      flex-wrap:wrap;\n",
              "      gap: 12px;\n",
              "    }\n",
              "\n",
              "    .colab-df-convert {\n",
              "      background-color: #E8F0FE;\n",
              "      border: none;\n",
              "      border-radius: 50%;\n",
              "      cursor: pointer;\n",
              "      display: none;\n",
              "      fill: #1967D2;\n",
              "      height: 32px;\n",
              "      padding: 0 0 0 0;\n",
              "      width: 32px;\n",
              "    }\n",
              "\n",
              "    .colab-df-convert:hover {\n",
              "      background-color: #E2EBFA;\n",
              "      box-shadow: 0px 1px 2px rgba(60, 64, 67, 0.3), 0px 1px 3px 1px rgba(60, 64, 67, 0.15);\n",
              "      fill: #174EA6;\n",
              "    }\n",
              "\n",
              "    [theme=dark] .colab-df-convert {\n",
              "      background-color: #3B4455;\n",
              "      fill: #D2E3FC;\n",
              "    }\n",
              "\n",
              "    [theme=dark] .colab-df-convert:hover {\n",
              "      background-color: #434B5C;\n",
              "      box-shadow: 0px 1px 3px 1px rgba(0, 0, 0, 0.15);\n",
              "      filter: drop-shadow(0px 1px 2px rgba(0, 0, 0, 0.3));\n",
              "      fill: #FFFFFF;\n",
              "    }\n",
              "  </style>\n",
              "\n",
              "      <script>\n",
              "        const buttonEl =\n",
              "          document.querySelector('#df-03577d6f-49cc-4d91-912a-020289c39c41 button.colab-df-convert');\n",
              "        buttonEl.style.display =\n",
              "          google.colab.kernel.accessAllowed ? 'block' : 'none';\n",
              "\n",
              "        async function convertToInteractive(key) {\n",
              "          const element = document.querySelector('#df-03577d6f-49cc-4d91-912a-020289c39c41');\n",
              "          const dataTable =\n",
              "            await google.colab.kernel.invokeFunction('convertToInteractive',\n",
              "                                                     [key], {});\n",
              "          if (!dataTable) return;\n",
              "\n",
              "          const docLinkHtml = 'Like what you see? Visit the ' +\n",
              "            '<a target=\"_blank\" href=https://colab.research.google.com/notebooks/data_table.ipynb>data table notebook</a>'\n",
              "            + ' to learn more about interactive tables.';\n",
              "          element.innerHTML = '';\n",
              "          dataTable['output_type'] = 'display_data';\n",
              "          await google.colab.output.renderOutput(dataTable, element);\n",
              "          const docLink = document.createElement('div');\n",
              "          docLink.innerHTML = docLinkHtml;\n",
              "          element.appendChild(docLink);\n",
              "        }\n",
              "      </script>\n",
              "    </div>\n",
              "  </div>\n",
              "  "
            ]
          },
          "metadata": {},
          "execution_count": 44
        }
      ],
      "source": [
        "data.head()"
      ],
      "id": "46ad64c4"
    },
    {
      "cell_type": "code",
      "execution_count": 45,
      "metadata": {
        "colab": {
          "base_uri": "https://localhost:8080/"
        },
        "id": "761e306e",
        "outputId": "5fdb91ad-14b7-4f36-fb99-67baaabb2575"
      },
      "outputs": [
        {
          "output_type": "stream",
          "name": "stdout",
          "text": [
            "<class 'pandas.core.frame.DataFrame'>\n",
            "RangeIndex: 3855719 entries, 0 to 3855718\n",
            "Data columns (total 7 columns):\n",
            " #   Column     Dtype  \n",
            "---  ------     -----  \n",
            " 0   latitude   float64\n",
            " 1   longitude  float64\n",
            " 2   depth      float64\n",
            " 3   mag        float64\n",
            " 4   id         object \n",
            " 5   hour       int64  \n",
            " 6   date       object \n",
            "dtypes: float64(4), int64(1), object(2)\n",
            "memory usage: 205.9+ MB\n"
          ]
        }
      ],
      "source": [
        "data.info()"
      ],
      "id": "761e306e"
    },
    {
      "cell_type": "markdown",
      "metadata": {
        "id": "bbde3ae8"
      },
      "source": [
        "# Data Preprocessing"
      ],
      "id": "bbde3ae8"
    },
    {
      "cell_type": "code",
      "execution_count": 48,
      "metadata": {
        "colab": {
          "base_uri": "https://localhost:8080/"
        },
        "id": "5a8fd2e3",
        "outputId": "75dd6afa-31b0-4030-8216-ddc19724e231"
      },
      "outputs": [
        {
          "output_type": "execute_result",
          "data": {
            "text/plain": [
              "pandas.core.series.Series"
            ]
          },
          "metadata": {},
          "execution_count": 48
        }
      ],
      "source": [
        "type(data['date'])"
      ],
      "id": "5a8fd2e3"
    },
    {
      "cell_type": "code",
      "execution_count": 49,
      "metadata": {
        "id": "cf10c4ec"
      },
      "outputs": [],
      "source": [
        "#data['hour'] = pd.to_datetime(data['hour'])\n",
        "#data['hour'] = str(data['hour'])"
      ],
      "id": "cf10c4ec"
    },
    {
      "cell_type": "code",
      "execution_count": 50,
      "metadata": {
        "colab": {
          "base_uri": "https://localhost:8080/"
        },
        "id": "fa73dbf3",
        "outputId": "21c6101d-304e-4951-b7f1-59a45af2c3ec"
      },
      "outputs": [
        {
          "output_type": "execute_result",
          "data": {
            "text/plain": [
              "str"
            ]
          },
          "metadata": {},
          "execution_count": 50
        }
      ],
      "source": [
        "type(data['date'][0])"
      ],
      "id": "fa73dbf3"
    },
    {
      "cell_type": "code",
      "execution_count": 51,
      "metadata": {
        "colab": {
          "base_uri": "https://localhost:8080/"
        },
        "id": "04118152",
        "outputId": "1d87a53e-c3f1-4ba0-8719-872293c50709"
      },
      "outputs": [
        {
          "output_type": "execute_result",
          "data": {
            "text/plain": [
              "numpy.int64"
            ]
          },
          "metadata": {},
          "execution_count": 51
        }
      ],
      "source": [
        "type(data['hour'][0])"
      ],
      "id": "04118152"
    },
    {
      "cell_type": "code",
      "execution_count": 52,
      "metadata": {
        "colab": {
          "base_uri": "https://localhost:8080/",
          "height": 676
        },
        "id": "763f70db",
        "outputId": "fe0fae4d-295b-4bca-fc83-eba63224f7b4"
      },
      "outputs": [
        {
          "output_type": "execute_result",
          "data": {
            "text/plain": [
              "     latitude  longitude    depth   mag          id  hour        date\n",
              "0   34.189835 -117.58800    6.000  1.70  ci12317071     0  1973-01-01\n",
              "1   -9.214000  150.63400   41.000  5.30  usp0000001     3  1973-01-01\n",
              "2   48.308666 -122.11733   13.680  2.20  uw10840118     4  1973-01-01\n",
              "3  -15.012000 -173.95800   33.000  5.00  usp0000002     5  1973-01-01\n",
              "4   19.443666 -155.36084    7.302  1.85  hv19723167     7  1973-01-01\n",
              "5  -22.161000  -65.79200  205.000  4.80  usp0000003     9  1973-01-01\n",
              "6   48.302500 -122.11933   13.700  2.40  uw10840128    11  1973-01-01\n",
              "7  -35.513000  -16.21100   33.000  6.00  usp0000004    11  1973-01-01\n",
              "8   47.585667 -123.06467   39.853  1.80  uw10840123    11  1973-01-01\n",
              "9   13.743000  -45.26600   33.000  4.40  usp0000006    21  1973-01-01\n",
              "10  13.897000  -44.87600   33.000  4.40  usp0000005    21  1973-01-01\n",
              "11  -9.854000  117.42700   66.000  5.50  usp0000008     0  1973-01-02\n",
              "12  38.221000   20.16500   33.000  4.30  usp0000009     1  1973-01-02\n",
              "13  33.629333 -117.34750    6.100  2.98   ci3320413     2  1973-01-02\n",
              "14   1.035000  126.21100   61.000  5.40  usp000000a     2  1973-01-02\n",
              "15   5.404000  -82.54100   30.000  5.20  usp000000c     3  1973-01-02\n",
              "16  18.923000 -104.12700   33.000  4.60  usp000000b     3  1973-01-02\n",
              "17  48.745500 -122.63850   24.130  2.30  uw10840133     4  1973-01-02\n",
              "18  19.314833 -155.25317    7.041  1.93  hv19730002     5  1973-01-02\n",
              "19  19.326000 -155.20433    6.589  2.21  hv19730003     6  1973-01-02"
            ],
            "text/html": [
              "\n",
              "  <div id=\"df-ebd1875d-2719-414c-b645-4a11f40f1c0b\">\n",
              "    <div class=\"colab-df-container\">\n",
              "      <div>\n",
              "<style scoped>\n",
              "    .dataframe tbody tr th:only-of-type {\n",
              "        vertical-align: middle;\n",
              "    }\n",
              "\n",
              "    .dataframe tbody tr th {\n",
              "        vertical-align: top;\n",
              "    }\n",
              "\n",
              "    .dataframe thead th {\n",
              "        text-align: right;\n",
              "    }\n",
              "</style>\n",
              "<table border=\"1\" class=\"dataframe\">\n",
              "  <thead>\n",
              "    <tr style=\"text-align: right;\">\n",
              "      <th></th>\n",
              "      <th>latitude</th>\n",
              "      <th>longitude</th>\n",
              "      <th>depth</th>\n",
              "      <th>mag</th>\n",
              "      <th>id</th>\n",
              "      <th>hour</th>\n",
              "      <th>date</th>\n",
              "    </tr>\n",
              "  </thead>\n",
              "  <tbody>\n",
              "    <tr>\n",
              "      <th>0</th>\n",
              "      <td>34.189835</td>\n",
              "      <td>-117.58800</td>\n",
              "      <td>6.000</td>\n",
              "      <td>1.70</td>\n",
              "      <td>ci12317071</td>\n",
              "      <td>0</td>\n",
              "      <td>1973-01-01</td>\n",
              "    </tr>\n",
              "    <tr>\n",
              "      <th>1</th>\n",
              "      <td>-9.214000</td>\n",
              "      <td>150.63400</td>\n",
              "      <td>41.000</td>\n",
              "      <td>5.30</td>\n",
              "      <td>usp0000001</td>\n",
              "      <td>3</td>\n",
              "      <td>1973-01-01</td>\n",
              "    </tr>\n",
              "    <tr>\n",
              "      <th>2</th>\n",
              "      <td>48.308666</td>\n",
              "      <td>-122.11733</td>\n",
              "      <td>13.680</td>\n",
              "      <td>2.20</td>\n",
              "      <td>uw10840118</td>\n",
              "      <td>4</td>\n",
              "      <td>1973-01-01</td>\n",
              "    </tr>\n",
              "    <tr>\n",
              "      <th>3</th>\n",
              "      <td>-15.012000</td>\n",
              "      <td>-173.95800</td>\n",
              "      <td>33.000</td>\n",
              "      <td>5.00</td>\n",
              "      <td>usp0000002</td>\n",
              "      <td>5</td>\n",
              "      <td>1973-01-01</td>\n",
              "    </tr>\n",
              "    <tr>\n",
              "      <th>4</th>\n",
              "      <td>19.443666</td>\n",
              "      <td>-155.36084</td>\n",
              "      <td>7.302</td>\n",
              "      <td>1.85</td>\n",
              "      <td>hv19723167</td>\n",
              "      <td>7</td>\n",
              "      <td>1973-01-01</td>\n",
              "    </tr>\n",
              "    <tr>\n",
              "      <th>5</th>\n",
              "      <td>-22.161000</td>\n",
              "      <td>-65.79200</td>\n",
              "      <td>205.000</td>\n",
              "      <td>4.80</td>\n",
              "      <td>usp0000003</td>\n",
              "      <td>9</td>\n",
              "      <td>1973-01-01</td>\n",
              "    </tr>\n",
              "    <tr>\n",
              "      <th>6</th>\n",
              "      <td>48.302500</td>\n",
              "      <td>-122.11933</td>\n",
              "      <td>13.700</td>\n",
              "      <td>2.40</td>\n",
              "      <td>uw10840128</td>\n",
              "      <td>11</td>\n",
              "      <td>1973-01-01</td>\n",
              "    </tr>\n",
              "    <tr>\n",
              "      <th>7</th>\n",
              "      <td>-35.513000</td>\n",
              "      <td>-16.21100</td>\n",
              "      <td>33.000</td>\n",
              "      <td>6.00</td>\n",
              "      <td>usp0000004</td>\n",
              "      <td>11</td>\n",
              "      <td>1973-01-01</td>\n",
              "    </tr>\n",
              "    <tr>\n",
              "      <th>8</th>\n",
              "      <td>47.585667</td>\n",
              "      <td>-123.06467</td>\n",
              "      <td>39.853</td>\n",
              "      <td>1.80</td>\n",
              "      <td>uw10840123</td>\n",
              "      <td>11</td>\n",
              "      <td>1973-01-01</td>\n",
              "    </tr>\n",
              "    <tr>\n",
              "      <th>9</th>\n",
              "      <td>13.743000</td>\n",
              "      <td>-45.26600</td>\n",
              "      <td>33.000</td>\n",
              "      <td>4.40</td>\n",
              "      <td>usp0000006</td>\n",
              "      <td>21</td>\n",
              "      <td>1973-01-01</td>\n",
              "    </tr>\n",
              "    <tr>\n",
              "      <th>10</th>\n",
              "      <td>13.897000</td>\n",
              "      <td>-44.87600</td>\n",
              "      <td>33.000</td>\n",
              "      <td>4.40</td>\n",
              "      <td>usp0000005</td>\n",
              "      <td>21</td>\n",
              "      <td>1973-01-01</td>\n",
              "    </tr>\n",
              "    <tr>\n",
              "      <th>11</th>\n",
              "      <td>-9.854000</td>\n",
              "      <td>117.42700</td>\n",
              "      <td>66.000</td>\n",
              "      <td>5.50</td>\n",
              "      <td>usp0000008</td>\n",
              "      <td>0</td>\n",
              "      <td>1973-01-02</td>\n",
              "    </tr>\n",
              "    <tr>\n",
              "      <th>12</th>\n",
              "      <td>38.221000</td>\n",
              "      <td>20.16500</td>\n",
              "      <td>33.000</td>\n",
              "      <td>4.30</td>\n",
              "      <td>usp0000009</td>\n",
              "      <td>1</td>\n",
              "      <td>1973-01-02</td>\n",
              "    </tr>\n",
              "    <tr>\n",
              "      <th>13</th>\n",
              "      <td>33.629333</td>\n",
              "      <td>-117.34750</td>\n",
              "      <td>6.100</td>\n",
              "      <td>2.98</td>\n",
              "      <td>ci3320413</td>\n",
              "      <td>2</td>\n",
              "      <td>1973-01-02</td>\n",
              "    </tr>\n",
              "    <tr>\n",
              "      <th>14</th>\n",
              "      <td>1.035000</td>\n",
              "      <td>126.21100</td>\n",
              "      <td>61.000</td>\n",
              "      <td>5.40</td>\n",
              "      <td>usp000000a</td>\n",
              "      <td>2</td>\n",
              "      <td>1973-01-02</td>\n",
              "    </tr>\n",
              "    <tr>\n",
              "      <th>15</th>\n",
              "      <td>5.404000</td>\n",
              "      <td>-82.54100</td>\n",
              "      <td>30.000</td>\n",
              "      <td>5.20</td>\n",
              "      <td>usp000000c</td>\n",
              "      <td>3</td>\n",
              "      <td>1973-01-02</td>\n",
              "    </tr>\n",
              "    <tr>\n",
              "      <th>16</th>\n",
              "      <td>18.923000</td>\n",
              "      <td>-104.12700</td>\n",
              "      <td>33.000</td>\n",
              "      <td>4.60</td>\n",
              "      <td>usp000000b</td>\n",
              "      <td>3</td>\n",
              "      <td>1973-01-02</td>\n",
              "    </tr>\n",
              "    <tr>\n",
              "      <th>17</th>\n",
              "      <td>48.745500</td>\n",
              "      <td>-122.63850</td>\n",
              "      <td>24.130</td>\n",
              "      <td>2.30</td>\n",
              "      <td>uw10840133</td>\n",
              "      <td>4</td>\n",
              "      <td>1973-01-02</td>\n",
              "    </tr>\n",
              "    <tr>\n",
              "      <th>18</th>\n",
              "      <td>19.314833</td>\n",
              "      <td>-155.25317</td>\n",
              "      <td>7.041</td>\n",
              "      <td>1.93</td>\n",
              "      <td>hv19730002</td>\n",
              "      <td>5</td>\n",
              "      <td>1973-01-02</td>\n",
              "    </tr>\n",
              "    <tr>\n",
              "      <th>19</th>\n",
              "      <td>19.326000</td>\n",
              "      <td>-155.20433</td>\n",
              "      <td>6.589</td>\n",
              "      <td>2.21</td>\n",
              "      <td>hv19730003</td>\n",
              "      <td>6</td>\n",
              "      <td>1973-01-02</td>\n",
              "    </tr>\n",
              "  </tbody>\n",
              "</table>\n",
              "</div>\n",
              "      <button class=\"colab-df-convert\" onclick=\"convertToInteractive('df-ebd1875d-2719-414c-b645-4a11f40f1c0b')\"\n",
              "              title=\"Convert this dataframe to an interactive table.\"\n",
              "              style=\"display:none;\">\n",
              "        \n",
              "  <svg xmlns=\"http://www.w3.org/2000/svg\" height=\"24px\"viewBox=\"0 0 24 24\"\n",
              "       width=\"24px\">\n",
              "    <path d=\"M0 0h24v24H0V0z\" fill=\"none\"/>\n",
              "    <path d=\"M18.56 5.44l.94 2.06.94-2.06 2.06-.94-2.06-.94-.94-2.06-.94 2.06-2.06.94zm-11 1L8.5 8.5l.94-2.06 2.06-.94-2.06-.94L8.5 2.5l-.94 2.06-2.06.94zm10 10l.94 2.06.94-2.06 2.06-.94-2.06-.94-.94-2.06-.94 2.06-2.06.94z\"/><path d=\"M17.41 7.96l-1.37-1.37c-.4-.4-.92-.59-1.43-.59-.52 0-1.04.2-1.43.59L10.3 9.45l-7.72 7.72c-.78.78-.78 2.05 0 2.83L4 21.41c.39.39.9.59 1.41.59.51 0 1.02-.2 1.41-.59l7.78-7.78 2.81-2.81c.8-.78.8-2.07 0-2.86zM5.41 20L4 18.59l7.72-7.72 1.47 1.35L5.41 20z\"/>\n",
              "  </svg>\n",
              "      </button>\n",
              "      \n",
              "  <style>\n",
              "    .colab-df-container {\n",
              "      display:flex;\n",
              "      flex-wrap:wrap;\n",
              "      gap: 12px;\n",
              "    }\n",
              "\n",
              "    .colab-df-convert {\n",
              "      background-color: #E8F0FE;\n",
              "      border: none;\n",
              "      border-radius: 50%;\n",
              "      cursor: pointer;\n",
              "      display: none;\n",
              "      fill: #1967D2;\n",
              "      height: 32px;\n",
              "      padding: 0 0 0 0;\n",
              "      width: 32px;\n",
              "    }\n",
              "\n",
              "    .colab-df-convert:hover {\n",
              "      background-color: #E2EBFA;\n",
              "      box-shadow: 0px 1px 2px rgba(60, 64, 67, 0.3), 0px 1px 3px 1px rgba(60, 64, 67, 0.15);\n",
              "      fill: #174EA6;\n",
              "    }\n",
              "\n",
              "    [theme=dark] .colab-df-convert {\n",
              "      background-color: #3B4455;\n",
              "      fill: #D2E3FC;\n",
              "    }\n",
              "\n",
              "    [theme=dark] .colab-df-convert:hover {\n",
              "      background-color: #434B5C;\n",
              "      box-shadow: 0px 1px 3px 1px rgba(0, 0, 0, 0.15);\n",
              "      filter: drop-shadow(0px 1px 2px rgba(0, 0, 0, 0.3));\n",
              "      fill: #FFFFFF;\n",
              "    }\n",
              "  </style>\n",
              "\n",
              "      <script>\n",
              "        const buttonEl =\n",
              "          document.querySelector('#df-ebd1875d-2719-414c-b645-4a11f40f1c0b button.colab-df-convert');\n",
              "        buttonEl.style.display =\n",
              "          google.colab.kernel.accessAllowed ? 'block' : 'none';\n",
              "\n",
              "        async function convertToInteractive(key) {\n",
              "          const element = document.querySelector('#df-ebd1875d-2719-414c-b645-4a11f40f1c0b');\n",
              "          const dataTable =\n",
              "            await google.colab.kernel.invokeFunction('convertToInteractive',\n",
              "                                                     [key], {});\n",
              "          if (!dataTable) return;\n",
              "\n",
              "          const docLinkHtml = 'Like what you see? Visit the ' +\n",
              "            '<a target=\"_blank\" href=https://colab.research.google.com/notebooks/data_table.ipynb>data table notebook</a>'\n",
              "            + ' to learn more about interactive tables.';\n",
              "          element.innerHTML = '';\n",
              "          dataTable['output_type'] = 'display_data';\n",
              "          await google.colab.output.renderOutput(dataTable, element);\n",
              "          const docLink = document.createElement('div');\n",
              "          docLink.innerHTML = docLinkHtml;\n",
              "          element.appendChild(docLink);\n",
              "        }\n",
              "      </script>\n",
              "    </div>\n",
              "  </div>\n",
              "  "
            ]
          },
          "metadata": {},
          "execution_count": 52
        }
      ],
      "source": [
        "data.head(20)"
      ],
      "id": "763f70db"
    },
    {
      "cell_type": "markdown",
      "metadata": {
        "id": "645c8ad3"
      },
      "source": [
        "## magnitude analysis"
      ],
      "id": "645c8ad3"
    },
    {
      "cell_type": "code",
      "execution_count": 53,
      "metadata": {
        "id": "77b79792"
      },
      "outputs": [],
      "source": [
        "data['mag'] = data['mag'].astype(int)"
      ],
      "id": "77b79792"
    },
    {
      "cell_type": "code",
      "execution_count": 54,
      "metadata": {
        "colab": {
          "base_uri": "https://localhost:8080/",
          "height": 307
        },
        "id": "d1ae22e6",
        "outputId": "bf723d97-4736-4866-ed65-330e0b033541"
      },
      "outputs": [
        {
          "output_type": "execute_result",
          "data": {
            "text/plain": [
              "Text(0, 0.5, 'Earthquake count')"
            ]
          },
          "metadata": {},
          "execution_count": 54
        },
        {
          "output_type": "display_data",
          "data": {
            "text/plain": [
              "<Figure size 432x288 with 1 Axes>"
            ],
            "image/png": "[encoded data removed]"
          },
          "metadata": {
            "needs_background": "light"
          }
        }
      ],
      "source": [
        "data['mag'].value_counts().plot.bar()\n",
        "plt.xlabel('Earthquake magnitude')\n",
        "plt.ylabel('Earthquake count')"
      ],
      "id": "d1ae22e6"
    },
    {
      "cell_type": "markdown",
      "metadata": {
        "id": "f913a37f"
      },
      "source": [
        "### Energy calculation"
      ],
      "id": "f913a37f"
    },
    {
      "cell_type": "code",
      "execution_count": 55,
      "metadata": {
        "id": "6f454b46"
      },
      "outputs": [],
      "source": [
        "data['energy'] = 5.24 + 1.44*data['mag']"
      ],
      "id": "6f454b46"
    },
    {
      "cell_type": "code",
      "execution_count": 56,
      "metadata": {
        "id": "3c06d038"
      },
      "outputs": [],
      "source": [
        "data['energy'] = np.power(10, data['energy'])"
      ],
      "id": "3c06d038"
    },
    {
      "cell_type": "code",
      "execution_count": 57,
      "metadata": {
        "colab": {
          "base_uri": "https://localhost:8080/",
          "height": 206
        },
        "id": "8e5d8b95",
        "outputId": "f8862f44-aa22-40f8-a9ed-0f479cec75c3"
      },
      "outputs": [
        {
          "output_type": "execute_result",
          "data": {
            "text/plain": [
              "    latitude  longitude   depth  mag          id  hour        date  \\\n",
              "0  34.189835 -117.58800   6.000    1  ci12317071     0  1973-01-01   \n",
              "1  -9.214000  150.63400  41.000    5  usp0000001     3  1973-01-01   \n",
              "2  48.308666 -122.11733  13.680    2  uw10840118     4  1973-01-01   \n",
              "3 -15.012000 -173.95800  33.000    5  usp0000002     5  1973-01-01   \n",
              "4  19.443666 -155.36084   7.302    1  hv19723167     7  1973-01-01   \n",
              "\n",
              "         energy  \n",
              "0  4.786301e+06  \n",
              "1  2.754229e+12  \n",
              "2  1.318257e+08  \n",
              "3  2.754229e+12  \n",
              "4  4.786301e+06  "
            ],
            "text/html": [
              "\n",
              "  <div id=\"df-c6ae97c5-a0c3-42ca-b30c-f5835bd0bfec\">\n",
              "    <div class=\"colab-df-container\">\n",
              "      <div>\n",
              "<style scoped>\n",
              "    .dataframe tbody tr th:only-of-type {\n",
              "        vertical-align: middle;\n",
              "    }\n",
              "\n",
              "    .dataframe tbody tr th {\n",
              "        vertical-align: top;\n",
              "    }\n",
              "\n",
              "    .dataframe thead th {\n",
              "        text-align: right;\n",
              "    }\n",
              "</style>\n",
              "<table border=\"1\" class=\"dataframe\">\n",
              "  <thead>\n",
              "    <tr style=\"text-align: right;\">\n",
              "      <th></th>\n",
              "      <th>latitude</th>\n",
              "      <th>longitude</th>\n",
              "      <th>depth</th>\n",
              "      <th>mag</th>\n",
              "      <th>id</th>\n",
              "      <th>hour</th>\n",
              "      <th>date</th>\n",
              "      <th>energy</th>\n",
              "    </tr>\n",
              "  </thead>\n",
              "  <tbody>\n",
              "    <tr>\n",
              "      <th>0</th>\n",
              "      <td>34.189835</td>\n",
              "      <td>-117.58800</td>\n",
              "      <td>6.000</td>\n",
              "      <td>1</td>\n",
              "      <td>ci12317071</td>\n",
              "      <td>0</td>\n",
              "      <td>1973-01-01</td>\n",
              "      <td>4.786301e+06</td>\n",
              "    </tr>\n",
              "    <tr>\n",
              "      <th>1</th>\n",
              "      <td>-9.214000</td>\n",
              "      <td>150.63400</td>\n",
              "      <td>41.000</td>\n",
              "      <td>5</td>\n",
              "      <td>usp0000001</td>\n",
              "      <td>3</td>\n",
              "      <td>1973-01-01</td>\n",
              "      <td>2.754229e+12</td>\n",
              "    </tr>\n",
              "    <tr>\n",
              "      <th>2</th>\n",
              "      <td>48.308666</td>\n",
              "      <td>-122.11733</td>\n",
              "      <td>13.680</td>\n",
              "      <td>2</td>\n",
              "      <td>uw10840118</td>\n",
              "      <td>4</td>\n",
              "      <td>1973-01-01</td>\n",
              "      <td>1.318257e+08</td>\n",
              "    </tr>\n",
              "    <tr>\n",
              "      <th>3</th>\n",
              "      <td>-15.012000</td>\n",
              "      <td>-173.95800</td>\n",
              "      <td>33.000</td>\n",
              "      <td>5</td>\n",
              "      <td>usp0000002</td>\n",
              "      <td>5</td>\n",
              "      <td>1973-01-01</td>\n",
              "      <td>2.754229e+12</td>\n",
              "    </tr>\n",
              "    <tr>\n",
              "      <th>4</th>\n",
              "      <td>19.443666</td>\n",
              "      <td>-155.36084</td>\n",
              "      <td>7.302</td>\n",
              "      <td>1</td>\n",
              "      <td>hv19723167</td>\n",
              "      <td>7</td>\n",
              "      <td>1973-01-01</td>\n",
              "      <td>4.786301e+06</td>\n",
              "    </tr>\n",
              "  </tbody>\n",
              "</table>\n",
              "</div>\n",
              "      <button class=\"colab-df-convert\" onclick=\"convertToInteractive('df-c6ae97c5-a0c3-42ca-b30c-f5835bd0bfec')\"\n",
              "              title=\"Convert this dataframe to an interactive table.\"\n",
              "              style=\"display:none;\">\n",
              "        \n",
              "  <svg xmlns=\"http://www.w3.org/2000/svg\" height=\"24px\"viewBox=\"0 0 24 24\"\n",
              "       width=\"24px\">\n",
              "    <path d=\"M0 0h24v24H0V0z\" fill=\"none\"/>\n",
              "    <path d=\"M18.56 5.44l.94 2.06.94-2.06 2.06-.94-2.06-.94-.94-2.06-.94 2.06-2.06.94zm-11 1L8.5 8.5l.94-2.06 2.06-.94-2.06-.94L8.5 2.5l-.94 2.06-2.06.94zm10 10l.94 2.06.94-2.06 2.06-.94-2.06-.94-.94-2.06-.94 2.06-2.06.94z\"/><path d=\"M17.41 7.96l-1.37-1.37c-.4-.4-.92-.59-1.43-.59-.52 0-1.04.2-1.43.59L10.3 9.45l-7.72 7.72c-.78.78-.78 2.05 0 2.83L4 21.41c.39.39.9.59 1.41.59.51 0 1.02-.2 1.41-.59l7.78-7.78 2.81-2.81c.8-.78.8-2.07 0-2.86zM5.41 20L4 18.59l7.72-7.72 1.47 1.35L5.41 20z\"/>\n",
              "  </svg>\n",
              "      </button>\n",
              "      \n",
              "  <style>\n",
              "    .colab-df-container {\n",
              "      display:flex;\n",
              "      flex-wrap:wrap;\n",
              "      gap: 12px;\n",
              "    }\n",
              "\n",
              "    .colab-df-convert {\n",
              "      background-color: #E8F0FE;\n",
              "      border: none;\n",
              "      border-radius: 50%;\n",
              "      cursor: pointer;\n",
              "      display: none;\n",
              "      fill: #1967D2;\n",
              "      height: 32px;\n",
              "      padding: 0 0 0 0;\n",
              "      width: 32px;\n",
              "    }\n",
              "\n",
              "    .colab-df-convert:hover {\n",
              "      background-color: #E2EBFA;\n",
              "      box-shadow: 0px 1px 2px rgba(60, 64, 67, 0.3), 0px 1px 3px 1px rgba(60, 64, 67, 0.15);\n",
              "      fill: #174EA6;\n",
              "    }\n",
              "\n",
              "    [theme=dark] .colab-df-convert {\n",
              "      background-color: #3B4455;\n",
              "      fill: #D2E3FC;\n",
              "    }\n",
              "\n",
              "    [theme=dark] .colab-df-convert:hover {\n",
              "      background-color: #434B5C;\n",
              "      box-shadow: 0px 1px 3px 1px rgba(0, 0, 0, 0.15);\n",
              "      filter: drop-shadow(0px 1px 2px rgba(0, 0, 0, 0.3));\n",
              "      fill: #FFFFFF;\n",
              "    }\n",
              "  </style>\n",
              "\n",
              "      <script>\n",
              "        const buttonEl =\n",
              "          document.querySelector('#df-c6ae97c5-a0c3-42ca-b30c-f5835bd0bfec button.colab-df-convert');\n",
              "        buttonEl.style.display =\n",
              "          google.colab.kernel.accessAllowed ? 'block' : 'none';\n",
              "\n",
              "        async function convertToInteractive(key) {\n",
              "          const element = document.querySelector('#df-c6ae97c5-a0c3-42ca-b30c-f5835bd0bfec');\n",
              "          const dataTable =\n",
              "            await google.colab.kernel.invokeFunction('convertToInteractive',\n",
              "                                                     [key], {});\n",
              "          if (!dataTable) return;\n",
              "\n",
              "          const docLinkHtml = 'Like what you see? Visit the ' +\n",
              "            '<a target=\"_blank\" href=https://colab.research.google.com/notebooks/data_table.ipynb>data table notebook</a>'\n",
              "            + ' to learn more about interactive tables.';\n",
              "          element.innerHTML = '';\n",
              "          dataTable['output_type'] = 'display_data';\n",
              "          await google.colab.output.renderOutput(dataTable, element);\n",
              "          const docLink = document.createElement('div');\n",
              "          docLink.innerHTML = docLinkHtml;\n",
              "          element.appendChild(docLink);\n",
              "        }\n",
              "      </script>\n",
              "    </div>\n",
              "  </div>\n",
              "  "
            ]
          },
          "metadata": {},
          "execution_count": 57
        }
      ],
      "source": [
        "data.head()"
      ],
      "id": "8e5d8b95"
    },
    {
      "cell_type": "markdown",
      "metadata": {
        "id": "39332f80"
      },
      "source": [
        "## Converting given date and time to Unix time.This will be in seconds.\n",
        "The unix time stamp is a way to track time as a running total of seconds. This count starts at the Unix Epoch on January 1st, 1970 at UTC. Therefore, the unix time stamp is merely the number of seconds between a particular date and the Unix Epoch."
      ],
      "id": "39332f80"
    },
    {
      "cell_type": "code",
      "execution_count": 58,
      "metadata": {
        "id": "bc44e23f"
      },
      "outputs": [],
      "source": [
        "data['hour'] = data['hour']*60*60"
      ],
      "id": "bc44e23f"
    },
    {
      "cell_type": "code",
      "execution_count": 59,
      "metadata": {
        "colab": {
          "base_uri": "https://localhost:8080/",
          "height": 206
        },
        "id": "c0e3c06a",
        "outputId": "2ccd475c-ff5d-45b4-9fe8-1d3e6bf4f4bf"
      },
      "outputs": [
        {
          "output_type": "execute_result",
          "data": {
            "text/plain": [
              "    latitude  longitude   depth  mag          id   hour        energy  \\\n",
              "0  34.189835 -117.58800   6.000    1  ci12317071      0  4.786301e+06   \n",
              "1  -9.214000  150.63400  41.000    5  usp0000001  10800  2.754229e+12   \n",
              "2  48.308666 -122.11733  13.680    2  uw10840118  14400  1.318257e+08   \n",
              "3 -15.012000 -173.95800  33.000    5  usp0000002  18000  2.754229e+12   \n",
              "4  19.443666 -155.36084   7.302    1  hv19723167  25200  4.786301e+06   \n",
              "\n",
              "    TimeStamp  \n",
              "0  94694400.0  \n",
              "1  94694400.0  \n",
              "2  94694400.0  \n",
              "3  94694400.0  \n",
              "4  94694400.0  "
            ],
            "text/html": [
              "\n",
              "  <div id=\"df-4eafbf93-ddcc-47b7-8859-51d3d299aca3\">\n",
              "    <div class=\"colab-df-container\">\n",
              "      <div>\n",
              "<style scoped>\n",
              "    .dataframe tbody tr th:only-of-type {\n",
              "        vertical-align: middle;\n",
              "    }\n",
              "\n",
              "    .dataframe tbody tr th {\n",
              "        vertical-align: top;\n",
              "    }\n",
              "\n",
              "    .dataframe thead th {\n",
              "        text-align: right;\n",
              "    }\n",
              "</style>\n",
              "<table border=\"1\" class=\"dataframe\">\n",
              "  <thead>\n",
              "    <tr style=\"text-align: right;\">\n",
              "      <th></th>\n",
              "      <th>latitude</th>\n",
              "      <th>longitude</th>\n",
              "      <th>depth</th>\n",
              "      <th>mag</th>\n",
              "      <th>id</th>\n",
              "      <th>hour</th>\n",
              "      <th>energy</th>\n",
              "      <th>TimeStamp</th>\n",
              "    </tr>\n",
              "  </thead>\n",
              "  <tbody>\n",
              "    <tr>\n",
              "      <th>0</th>\n",
              "      <td>34.189835</td>\n",
              "      <td>-117.58800</td>\n",
              "      <td>6.000</td>\n",
              "      <td>1</td>\n",
              "      <td>ci12317071</td>\n",
              "      <td>0</td>\n",
              "      <td>4.786301e+06</td>\n",
              "      <td>94694400.0</td>\n",
              "    </tr>\n",
              "    <tr>\n",
              "      <th>1</th>\n",
              "      <td>-9.214000</td>\n",
              "      <td>150.63400</td>\n",
              "      <td>41.000</td>\n",
              "      <td>5</td>\n",
              "      <td>usp0000001</td>\n",
              "      <td>10800</td>\n",
              "      <td>2.754229e+12</td>\n",
              "      <td>94694400.0</td>\n",
              "    </tr>\n",
              "    <tr>\n",
              "      <th>2</th>\n",
              "      <td>48.308666</td>\n",
              "      <td>-122.11733</td>\n",
              "      <td>13.680</td>\n",
              "      <td>2</td>\n",
              "      <td>uw10840118</td>\n",
              "      <td>14400</td>\n",
              "      <td>1.318257e+08</td>\n",
              "      <td>94694400.0</td>\n",
              "    </tr>\n",
              "    <tr>\n",
              "      <th>3</th>\n",
              "      <td>-15.012000</td>\n",
              "      <td>-173.95800</td>\n",
              "      <td>33.000</td>\n",
              "      <td>5</td>\n",
              "      <td>usp0000002</td>\n",
              "      <td>18000</td>\n",
              "      <td>2.754229e+12</td>\n",
              "      <td>94694400.0</td>\n",
              "    </tr>\n",
              "    <tr>\n",
              "      <th>4</th>\n",
              "      <td>19.443666</td>\n",
              "      <td>-155.36084</td>\n",
              "      <td>7.302</td>\n",
              "      <td>1</td>\n",
              "      <td>hv19723167</td>\n",
              "      <td>25200</td>\n",
              "      <td>4.786301e+06</td>\n",
              "      <td>94694400.0</td>\n",
              "    </tr>\n",
              "  </tbody>\n",
              "</table>\n",
              "</div>\n",
              "      <button class=\"colab-df-convert\" onclick=\"convertToInteractive('df-4eafbf93-ddcc-47b7-8859-51d3d299aca3')\"\n",
              "              title=\"Convert this dataframe to an interactive table.\"\n",
              "              style=\"display:none;\">\n",
              "        \n",
              "  <svg xmlns=\"http://www.w3.org/2000/svg\" height=\"24px\"viewBox=\"0 0 24 24\"\n",
              "       width=\"24px\">\n",
              "    <path d=\"M0 0h24v24H0V0z\" fill=\"none\"/>\n",
              "    <path d=\"M18.56 5.44l.94 2.06.94-2.06 2.06-.94-2.06-.94-.94-2.06-.94 2.06-2.06.94zm-11 1L8.5 8.5l.94-2.06 2.06-.94-2.06-.94L8.5 2.5l-.94 2.06-2.06.94zm10 10l.94 2.06.94-2.06 2.06-.94-2.06-.94-.94-2.06-.94 2.06-2.06.94z\"/><path d=\"M17.41 7.96l-1.37-1.37c-.4-.4-.92-.59-1.43-.59-.52 0-1.04.2-1.43.59L10.3 9.45l-7.72 7.72c-.78.78-.78 2.05 0 2.83L4 21.41c.39.39.9.59 1.41.59.51 0 1.02-.2 1.41-.59l7.78-7.78 2.81-2.81c.8-.78.8-2.07 0-2.86zM5.41 20L4 18.59l7.72-7.72 1.47 1.35L5.41 20z\"/>\n",
              "  </svg>\n",
              "      </button>\n",
              "      \n",
              "  <style>\n",
              "    .colab-df-container {\n",
              "      display:flex;\n",
              "      flex-wrap:wrap;\n",
              "      gap: 12px;\n",
              "    }\n",
              "\n",
              "    .colab-df-convert {\n",
              "      background-color: #E8F0FE;\n",
              "      border: none;\n",
              "      border-radius: 50%;\n",
              "      cursor: pointer;\n",
              "      display: none;\n",
              "      fill: #1967D2;\n",
              "      height: 32px;\n",
              "      padding: 0 0 0 0;\n",
              "      width: 32px;\n",
              "    }\n",
              "\n",
              "    .colab-df-convert:hover {\n",
              "      background-color: #E2EBFA;\n",
              "      box-shadow: 0px 1px 2px rgba(60, 64, 67, 0.3), 0px 1px 3px 1px rgba(60, 64, 67, 0.15);\n",
              "      fill: #174EA6;\n",
              "    }\n",
              "\n",
              "    [theme=dark] .colab-df-convert {\n",
              "      background-color: #3B4455;\n",
              "      fill: #D2E3FC;\n",
              "    }\n",
              "\n",
              "    [theme=dark] .colab-df-convert:hover {\n",
              "      background-color: #434B5C;\n",
              "      box-shadow: 0px 1px 3px 1px rgba(0, 0, 0, 0.15);\n",
              "      filter: drop-shadow(0px 1px 2px rgba(0, 0, 0, 0.3));\n",
              "      fill: #FFFFFF;\n",
              "    }\n",
              "  </style>\n",
              "\n",
              "      <script>\n",
              "        const buttonEl =\n",
              "          document.querySelector('#df-4eafbf93-ddcc-47b7-8859-51d3d299aca3 button.colab-df-convert');\n",
              "        buttonEl.style.display =\n",
              "          google.colab.kernel.accessAllowed ? 'block' : 'none';\n",
              "\n",
              "        async function convertToInteractive(key) {\n",
              "          const element = document.querySelector('#df-4eafbf93-ddcc-47b7-8859-51d3d299aca3');\n",
              "          const dataTable =\n",
              "            await google.colab.kernel.invokeFunction('convertToInteractive',\n",
              "                                                     [key], {});\n",
              "          if (!dataTable) return;\n",
              "\n",
              "          const docLinkHtml = 'Like what you see? Visit the ' +\n",
              "            '<a target=\"_blank\" href=https://colab.research.google.com/notebooks/data_table.ipynb>data table notebook</a>'\n",
              "            + ' to learn more about interactive tables.';\n",
              "          element.innerHTML = '';\n",
              "          dataTable['output_type'] = 'display_data';\n",
              "          await google.colab.output.renderOutput(dataTable, element);\n",
              "          const docLink = document.createElement('div');\n",
              "          docLink.innerHTML = docLinkHtml;\n",
              "          element.appendChild(docLink);\n",
              "        }\n",
              "      </script>\n",
              "    </div>\n",
              "  </div>\n",
              "  "
            ]
          },
          "metadata": {},
          "execution_count": 59
        }
      ],
      "source": [
        "timestamp = []\n",
        "for d in data['date']:\n",
        "    try:\n",
        "        ts = datetime.datetime.strptime(d , '%Y-%m-%d') #strptime() is another method available in DateTime which is used to format the time stamp which is in string format to date-time object.\n",
        "        #ts = datetime.datetime.strptime(d+' '+t, '%m/%d/%Y %H:%M:%S')\n",
        "        timestamp.append(time.mktime(ts.timetuple()))\n",
        "    except ValueError:  #erroneous value\n",
        "        timestamp.append('ValueError')\n",
        "TimeStamp = pd.Series(timestamp)\n",
        "data['TimeStamp'] = TimeStamp.values\n",
        "data_final = data.drop(['date'],axis = 1)\n",
        "data_final = data_final[data_final.TimeStamp !='ValueError']\n",
        "data_final.head()"
      ],
      "id": "c0e3c06a"
    },
    {
      "cell_type": "code",
      "execution_count": 59,
      "metadata": {
        "id": "25a09e9a"
      },
      "outputs": [],
      "source": [],
      "id": "25a09e9a"
    },
    {
      "cell_type": "code",
      "execution_count": 60,
      "metadata": {
        "id": "bbc71b15"
      },
      "outputs": [],
      "source": [
        "data_final['TimeStamp_f'] = data_final['TimeStamp'] + data['hour']"
      ],
      "id": "bbc71b15"
    },
    {
      "cell_type": "code",
      "execution_count": 61,
      "metadata": {
        "colab": {
          "base_uri": "https://localhost:8080/",
          "height": 206
        },
        "id": "d5d9fc35",
        "outputId": "e7be8348-d26d-43fc-974c-5873fa034a69"
      },
      "outputs": [
        {
          "output_type": "execute_result",
          "data": {
            "text/plain": [
              "    latitude  longitude   depth  mag          id   hour        energy  \\\n",
              "0  34.189835 -117.58800   6.000    1  ci12317071      0  4.786301e+06   \n",
              "1  -9.214000  150.63400  41.000    5  usp0000001  10800  2.754229e+12   \n",
              "2  48.308666 -122.11733  13.680    2  uw10840118  14400  1.318257e+08   \n",
              "3 -15.012000 -173.95800  33.000    5  usp0000002  18000  2.754229e+12   \n",
              "4  19.443666 -155.36084   7.302    1  hv19723167  25200  4.786301e+06   \n",
              "\n",
              "    TimeStamp  TimeStamp_f  \n",
              "0  94694400.0   94694400.0  \n",
              "1  94694400.0   94705200.0  \n",
              "2  94694400.0   94708800.0  \n",
              "3  94694400.0   94712400.0  \n",
              "4  94694400.0   94719600.0  "
            ],
            "text/html": [
              "\n",
              "  <div id=\"df-083ada5b-7d40-4aff-b72f-53ba09d09416\">\n",
              "    <div class=\"colab-df-container\">\n",
              "      <div>\n",
              "<style scoped>\n",
              "    .dataframe tbody tr th:only-of-type {\n",
              "        vertical-align: middle;\n",
              "    }\n",
              "\n",
              "    .dataframe tbody tr th {\n",
              "        vertical-align: top;\n",
              "    }\n",
              "\n",
              "    .dataframe thead th {\n",
              "        text-align: right;\n",
              "    }\n",
              "</style>\n",
              "<table border=\"1\" class=\"dataframe\">\n",
              "  <thead>\n",
              "    <tr style=\"text-align: right;\">\n",
              "      <th></th>\n",
              "      <th>latitude</th>\n",
              "      <th>longitude</th>\n",
              "      <th>depth</th>\n",
              "      <th>mag</th>\n",
              "      <th>id</th>\n",
              "      <th>hour</th>\n",
              "      <th>energy</th>\n",
              "      <th>TimeStamp</th>\n",
              "      <th>TimeStamp_f</th>\n",
              "    </tr>\n",
              "  </thead>\n",
              "  <tbody>\n",
              "    <tr>\n",
              "      <th>0</th>\n",
              "      <td>34.189835</td>\n",
              "      <td>-117.58800</td>\n",
              "      <td>6.000</td>\n",
              "      <td>1</td>\n",
              "      <td>ci12317071</td>\n",
              "      <td>0</td>\n",
              "      <td>4.786301e+06</td>\n",
              "      <td>94694400.0</td>\n",
              "      <td>94694400.0</td>\n",
              "    </tr>\n",
              "    <tr>\n",
              "      <th>1</th>\n",
              "      <td>-9.214000</td>\n",
              "      <td>150.63400</td>\n",
              "      <td>41.000</td>\n",
              "      <td>5</td>\n",
              "      <td>usp0000001</td>\n",
              "      <td>10800</td>\n",
              "      <td>2.754229e+12</td>\n",
              "      <td>94694400.0</td>\n",
              "      <td>94705200.0</td>\n",
              "    </tr>\n",
              "    <tr>\n",
              "      <th>2</th>\n",
              "      <td>48.308666</td>\n",
              "      <td>-122.11733</td>\n",
              "      <td>13.680</td>\n",
              "      <td>2</td>\n",
              "      <td>uw10840118</td>\n",
              "      <td>14400</td>\n",
              "      <td>1.318257e+08</td>\n",
              "      <td>94694400.0</td>\n",
              "      <td>94708800.0</td>\n",
              "    </tr>\n",
              "    <tr>\n",
              "      <th>3</th>\n",
              "      <td>-15.012000</td>\n",
              "      <td>-173.95800</td>\n",
              "      <td>33.000</td>\n",
              "      <td>5</td>\n",
              "      <td>usp0000002</td>\n",
              "      <td>18000</td>\n",
              "      <td>2.754229e+12</td>\n",
              "      <td>94694400.0</td>\n",
              "      <td>94712400.0</td>\n",
              "    </tr>\n",
              "    <tr>\n",
              "      <th>4</th>\n",
              "      <td>19.443666</td>\n",
              "      <td>-155.36084</td>\n",
              "      <td>7.302</td>\n",
              "      <td>1</td>\n",
              "      <td>hv19723167</td>\n",
              "      <td>25200</td>\n",
              "      <td>4.786301e+06</td>\n",
              "      <td>94694400.0</td>\n",
              "      <td>94719600.0</td>\n",
              "    </tr>\n",
              "  </tbody>\n",
              "</table>\n",
              "</div>\n",
              "      <button class=\"colab-df-convert\" onclick=\"convertToInteractive('df-083ada5b-7d40-4aff-b72f-53ba09d09416')\"\n",
              "              title=\"Convert this dataframe to an interactive table.\"\n",
              "              style=\"display:none;\">\n",
              "        \n",
              "  <svg xmlns=\"http://www.w3.org/2000/svg\" height=\"24px\"viewBox=\"0 0 24 24\"\n",
              "       width=\"24px\">\n",
              "    <path d=\"M0 0h24v24H0V0z\" fill=\"none\"/>\n",
              "    <path d=\"M18.56 5.44l.94 2.06.94-2.06 2.06-.94-2.06-.94-.94-2.06-.94 2.06-2.06.94zm-11 1L8.5 8.5l.94-2.06 2.06-.94-2.06-.94L8.5 2.5l-.94 2.06-2.06.94zm10 10l.94 2.06.94-2.06 2.06-.94-2.06-.94-.94-2.06-.94 2.06-2.06.94z\"/><path d=\"M17.41 7.96l-1.37-1.37c-.4-.4-.92-.59-1.43-.59-.52 0-1.04.2-1.43.59L10.3 9.45l-7.72 7.72c-.78.78-.78 2.05 0 2.83L4 21.41c.39.39.9.59 1.41.59.51 0 1.02-.2 1.41-.59l7.78-7.78 2.81-2.81c.8-.78.8-2.07 0-2.86zM5.41 20L4 18.59l7.72-7.72 1.47 1.35L5.41 20z\"/>\n",
              "  </svg>\n",
              "      </button>\n",
              "      \n",
              "  <style>\n",
              "    .colab-df-container {\n",
              "      display:flex;\n",
              "      flex-wrap:wrap;\n",
              "      gap: 12px;\n",
              "    }\n",
              "\n",
              "    .colab-df-convert {\n",
              "      background-color: #E8F0FE;\n",
              "      border: none;\n",
              "      border-radius: 50%;\n",
              "      cursor: pointer;\n",
              "      display: none;\n",
              "      fill: #1967D2;\n",
              "      height: 32px;\n",
              "      padding: 0 0 0 0;\n",
              "      width: 32px;\n",
              "    }\n",
              "\n",
              "    .colab-df-convert:hover {\n",
              "      background-color: #E2EBFA;\n",
              "      box-shadow: 0px 1px 2px rgba(60, 64, 67, 0.3), 0px 1px 3px 1px rgba(60, 64, 67, 0.15);\n",
              "      fill: #174EA6;\n",
              "    }\n",
              "\n",
              "    [theme=dark] .colab-df-convert {\n",
              "      background-color: #3B4455;\n",
              "      fill: #D2E3FC;\n",
              "    }\n",
              "\n",
              "    [theme=dark] .colab-df-convert:hover {\n",
              "      background-color: #434B5C;\n",
              "      box-shadow: 0px 1px 3px 1px rgba(0, 0, 0, 0.15);\n",
              "      filter: drop-shadow(0px 1px 2px rgba(0, 0, 0, 0.3));\n",
              "      fill: #FFFFFF;\n",
              "    }\n",
              "  </style>\n",
              "\n",
              "      <script>\n",
              "        const buttonEl =\n",
              "          document.querySelector('#df-083ada5b-7d40-4aff-b72f-53ba09d09416 button.colab-df-convert');\n",
              "        buttonEl.style.display =\n",
              "          google.colab.kernel.accessAllowed ? 'block' : 'none';\n",
              "\n",
              "        async function convertToInteractive(key) {\n",
              "          const element = document.querySelector('#df-083ada5b-7d40-4aff-b72f-53ba09d09416');\n",
              "          const dataTable =\n",
              "            await google.colab.kernel.invokeFunction('convertToInteractive',\n",
              "                                                     [key], {});\n",
              "          if (!dataTable) return;\n",
              "\n",
              "          const docLinkHtml = 'Like what you see? Visit the ' +\n",
              "            '<a target=\"_blank\" href=https://colab.research.google.com/notebooks/data_table.ipynb>data table notebook</a>'\n",
              "            + ' to learn more about interactive tables.';\n",
              "          element.innerHTML = '';\n",
              "          dataTable['output_type'] = 'display_data';\n",
              "          await google.colab.output.renderOutput(dataTable, element);\n",
              "          const docLink = document.createElement('div');\n",
              "          docLink.innerHTML = docLinkHtml;\n",
              "          element.appendChild(docLink);\n",
              "        }\n",
              "      </script>\n",
              "    </div>\n",
              "  </div>\n",
              "  "
            ]
          },
          "metadata": {},
          "execution_count": 61
        }
      ],
      "source": [
        "data_final.head()"
      ],
      "id": "d5d9fc35"
    },
    {
      "cell_type": "code",
      "execution_count": 62,
      "metadata": {
        "colab": {
          "base_uri": "https://localhost:8080/",
          "height": 206
        },
        "id": "34662bd8",
        "outputId": "c19b5894-9750-4d83-f5af-4da6a07f87f6"
      },
      "outputs": [
        {
          "output_type": "execute_result",
          "data": {
            "text/plain": [
              "    latitude  longitude   depth  mag          id        energy  TimeStamp_f\n",
              "0  34.189835 -117.58800   6.000    1  ci12317071  4.786301e+06   94694400.0\n",
              "1  -9.214000  150.63400  41.000    5  usp0000001  2.754229e+12   94705200.0\n",
              "2  48.308666 -122.11733  13.680    2  uw10840118  1.318257e+08   94708800.0\n",
              "3 -15.012000 -173.95800  33.000    5  usp0000002  2.754229e+12   94712400.0\n",
              "4  19.443666 -155.36084   7.302    1  hv19723167  4.786301e+06   94719600.0"
            ],
            "text/html": [
              "\n",
              "  <div id=\"df-311dc88b-6ffc-4e0f-a832-d9f1ca5e586c\">\n",
              "    <div class=\"colab-df-container\">\n",
              "      <div>\n",
              "<style scoped>\n",
              "    .dataframe tbody tr th:only-of-type {\n",
              "        vertical-align: middle;\n",
              "    }\n",
              "\n",
              "    .dataframe tbody tr th {\n",
              "        vertical-align: top;\n",
              "    }\n",
              "\n",
              "    .dataframe thead th {\n",
              "        text-align: right;\n",
              "    }\n",
              "</style>\n",
              "<table border=\"1\" class=\"dataframe\">\n",
              "  <thead>\n",
              "    <tr style=\"text-align: right;\">\n",
              "      <th></th>\n",
              "      <th>latitude</th>\n",
              "      <th>longitude</th>\n",
              "      <th>depth</th>\n",
              "      <th>mag</th>\n",
              "      <th>id</th>\n",
              "      <th>energy</th>\n",
              "      <th>TimeStamp_f</th>\n",
              "    </tr>\n",
              "  </thead>\n",
              "  <tbody>\n",
              "    <tr>\n",
              "      <th>0</th>\n",
              "      <td>34.189835</td>\n",
              "      <td>-117.58800</td>\n",
              "      <td>6.000</td>\n",
              "      <td>1</td>\n",
              "      <td>ci12317071</td>\n",
              "      <td>4.786301e+06</td>\n",
              "      <td>94694400.0</td>\n",
              "    </tr>\n",
              "    <tr>\n",
              "      <th>1</th>\n",
              "      <td>-9.214000</td>\n",
              "      <td>150.63400</td>\n",
              "      <td>41.000</td>\n",
              "      <td>5</td>\n",
              "      <td>usp0000001</td>\n",
              "      <td>2.754229e+12</td>\n",
              "      <td>94705200.0</td>\n",
              "    </tr>\n",
              "    <tr>\n",
              "      <th>2</th>\n",
              "      <td>48.308666</td>\n",
              "      <td>-122.11733</td>\n",
              "      <td>13.680</td>\n",
              "      <td>2</td>\n",
              "      <td>uw10840118</td>\n",
              "      <td>1.318257e+08</td>\n",
              "      <td>94708800.0</td>\n",
              "    </tr>\n",
              "    <tr>\n",
              "      <th>3</th>\n",
              "      <td>-15.012000</td>\n",
              "      <td>-173.95800</td>\n",
              "      <td>33.000</td>\n",
              "      <td>5</td>\n",
              "      <td>usp0000002</td>\n",
              "      <td>2.754229e+12</td>\n",
              "      <td>94712400.0</td>\n",
              "    </tr>\n",
              "    <tr>\n",
              "      <th>4</th>\n",
              "      <td>19.443666</td>\n",
              "      <td>-155.36084</td>\n",
              "      <td>7.302</td>\n",
              "      <td>1</td>\n",
              "      <td>hv19723167</td>\n",
              "      <td>4.786301e+06</td>\n",
              "      <td>94719600.0</td>\n",
              "    </tr>\n",
              "  </tbody>\n",
              "</table>\n",
              "</div>\n",
              "      <button class=\"colab-df-convert\" onclick=\"convertToInteractive('df-311dc88b-6ffc-4e0f-a832-d9f1ca5e586c')\"\n",
              "              title=\"Convert this dataframe to an interactive table.\"\n",
              "              style=\"display:none;\">\n",
              "        \n",
              "  <svg xmlns=\"http://www.w3.org/2000/svg\" height=\"24px\"viewBox=\"0 0 24 24\"\n",
              "       width=\"24px\">\n",
              "    <path d=\"M0 0h24v24H0V0z\" fill=\"none\"/>\n",
              "    <path d=\"M18.56 5.44l.94 2.06.94-2.06 2.06-.94-2.06-.94-.94-2.06-.94 2.06-2.06.94zm-11 1L8.5 8.5l.94-2.06 2.06-.94-2.06-.94L8.5 2.5l-.94 2.06-2.06.94zm10 10l.94 2.06.94-2.06 2.06-.94-2.06-.94-.94-2.06-.94 2.06-2.06.94z\"/><path d=\"M17.41 7.96l-1.37-1.37c-.4-.4-.92-.59-1.43-.59-.52 0-1.04.2-1.43.59L10.3 9.45l-7.72 7.72c-.78.78-.78 2.05 0 2.83L4 21.41c.39.39.9.59 1.41.59.51 0 1.02-.2 1.41-.59l7.78-7.78 2.81-2.81c.8-.78.8-2.07 0-2.86zM5.41 20L4 18.59l7.72-7.72 1.47 1.35L5.41 20z\"/>\n",
              "  </svg>\n",
              "      </button>\n",
              "      \n",
              "  <style>\n",
              "    .colab-df-container {\n",
              "      display:flex;\n",
              "      flex-wrap:wrap;\n",
              "      gap: 12px;\n",
              "    }\n",
              "\n",
              "    .colab-df-convert {\n",
              "      background-color: #E8F0FE;\n",
              "      border: none;\n",
              "      border-radius: 50%;\n",
              "      cursor: pointer;\n",
              "      display: none;\n",
              "      fill: #1967D2;\n",
              "      height: 32px;\n",
              "      padding: 0 0 0 0;\n",
              "      width: 32px;\n",
              "    }\n",
              "\n",
              "    .colab-df-convert:hover {\n",
              "      background-color: #E2EBFA;\n",
              "      box-shadow: 0px 1px 2px rgba(60, 64, 67, 0.3), 0px 1px 3px 1px rgba(60, 64, 67, 0.15);\n",
              "      fill: #174EA6;\n",
              "    }\n",
              "\n",
              "    [theme=dark] .colab-df-convert {\n",
              "      background-color: #3B4455;\n",
              "      fill: #D2E3FC;\n",
              "    }\n",
              "\n",
              "    [theme=dark] .colab-df-convert:hover {\n",
              "      background-color: #434B5C;\n",
              "      box-shadow: 0px 1px 3px 1px rgba(0, 0, 0, 0.15);\n",
              "      filter: drop-shadow(0px 1px 2px rgba(0, 0, 0, 0.3));\n",
              "      fill: #FFFFFF;\n",
              "    }\n",
              "  </style>\n",
              "\n",
              "      <script>\n",
              "        const buttonEl =\n",
              "          document.querySelector('#df-311dc88b-6ffc-4e0f-a832-d9f1ca5e586c button.colab-df-convert');\n",
              "        buttonEl.style.display =\n",
              "          google.colab.kernel.accessAllowed ? 'block' : 'none';\n",
              "\n",
              "        async function convertToInteractive(key) {\n",
              "          const element = document.querySelector('#df-311dc88b-6ffc-4e0f-a832-d9f1ca5e586c');\n",
              "          const dataTable =\n",
              "            await google.colab.kernel.invokeFunction('convertToInteractive',\n",
              "                                                     [key], {});\n",
              "          if (!dataTable) return;\n",
              "\n",
              "          const docLinkHtml = 'Like what you see? Visit the ' +\n",
              "            '<a target=\"_blank\" href=https://colab.research.google.com/notebooks/data_table.ipynb>data table notebook</a>'\n",
              "            + ' to learn more about interactive tables.';\n",
              "          element.innerHTML = '';\n",
              "          dataTable['output_type'] = 'display_data';\n",
              "          await google.colab.output.renderOutput(dataTable, element);\n",
              "          const docLink = document.createElement('div');\n",
              "          docLink.innerHTML = docLinkHtml;\n",
              "          element.appendChild(docLink);\n",
              "        }\n",
              "      </script>\n",
              "    </div>\n",
              "  </div>\n",
              "  "
            ]
          },
          "metadata": {},
          "execution_count": 62
        }
      ],
      "source": [
        "data_final = data_final.drop(['hour','TimeStamp'],axis =1)\n",
        "data_final.head()"
      ],
      "id": "34662bd8"
    },
    {
      "cell_type": "markdown",
      "metadata": {
        "id": "e69986cf"
      },
      "source": [
        "## Train - Test Split"
      ],
      "id": "e69986cf"
    },
    {
      "cell_type": "code",
      "execution_count": 63,
      "metadata": {
        "id": "50228339"
      },
      "outputs": [],
      "source": [
        "X = data_final[['latitude','longitude','TimeStamp_f']] # Input data\n",
        "y = data_final[['depth','mag']] # Output data"
      ],
      "id": "50228339"
    },
    {
      "cell_type": "code",
      "execution_count": 64,
      "metadata": {
        "id": "d4aed6a7"
      },
      "outputs": [],
      "source": [
        "from sklearn.model_selection import train_test_split"
      ],
      "id": "d4aed6a7"
    },
    {
      "cell_type": "code",
      "execution_count": 65,
      "metadata": {
        "colab": {
          "base_uri": "https://localhost:8080/"
        },
        "id": "ddca2117",
        "outputId": "08fe6ad3-8a4c-4091-efdc-973a67c346de"
      },
      "outputs": [
        {
          "output_type": "execute_result",
          "data": {
            "text/plain": [
              "((2699003, 3), (1156716, 3), (2699003, 2), (1156716, 2))"
            ]
          },
          "metadata": {},
          "execution_count": 65
        }
      ],
      "source": [
        "X_train,X_test,y_train,y_test = train_test_split(X,y,test_size=0.3,random_state=42)\n",
        "X_train.shape,X_test.shape,y_train.shape,y_test.shape"
      ],
      "id": "ddca2117"
    },
    {
      "cell_type": "code",
      "execution_count": 66,
      "metadata": {
        "id": "a78722c9"
      },
      "outputs": [],
      "source": [
        "from keras.layers import Dense, Dropout, Flatten,Activation\n",
        "from tensorflow.keras import Sequential\n"
      ],
      "id": "a78722c9"
    },
    {
      "cell_type": "code",
      "execution_count": 67,
      "metadata": {
        "id": "FX6VFgDSOyhr"
      },
      "outputs": [],
      "source": [
        "tf.keras.backend.clear_session()\n",
        "model = Sequential()\n",
        "# 1st conv layer\n",
        "model.add(Dense(32,activation='relu',input_shape = (3, ))) # 3 in input_shape denotes number of columns in input data\n",
        "\n",
        "# second conv layer\n",
        "model.add(Dense(32,activation='relu'))\n",
        "\n",
        "model.add(Dense(2, activation='softmax'))\n"
      ],
      "id": "FX6VFgDSOyhr"
    },
    {
      "cell_type": "code",
      "execution_count": 68,
      "metadata": {
        "colab": {
          "base_uri": "https://localhost:8080/"
        },
        "id": "51DEZvteidvF",
        "outputId": "3171f643-155a-4007-d43e-12ffe20b1ef0"
      },
      "outputs": [
        {
          "output_type": "stream",
          "name": "stdout",
          "text": [
            "Model: \"sequential\"\n",
            "_________________________________________________________________\n",
            " Layer (type)                Output Shape              Param #   \n",
            "=================================================================\n",
            " dense (Dense)               (None, 32)                128       \n",
            "                                                                 \n",
            " dense_1 (Dense)             (None, 32)                1056      \n",
            "                                                                 \n",
            " dense_2 (Dense)             (None, 2)                 66        \n",
            "                                                                 \n",
            "=================================================================\n",
            "Total params: 1,250\n",
            "Trainable params: 1,250\n",
            "Non-trainable params: 0\n",
            "_________________________________________________________________\n"
          ]
        }
      ],
      "source": [
        "model.summary()"
      ],
      "id": "51DEZvteidvF"
    },
    {
      "cell_type": "code",
      "execution_count": 69,
      "metadata": {
        "id": "Uw_GucMMRhR_"
      },
      "outputs": [],
      "source": [
        "model.compile(optimizer='SGD', loss='squared_hinge', metrics=['accuracy'])"
      ],
      "id": "Uw_GucMMRhR_"
    },
    {
      "cell_type": "code",
      "execution_count": 70,
      "metadata": {
        "id": "7Kf0OroBjB4_"
      },
      "outputs": [],
      "source": [
        "# Callback implementation\n",
        "# This callback will stop the training when there is no improvement in the loss for three consecutive epochs.\n",
        "early_stopping = tf.keras.callbacks.EarlyStopping(monitor = 'loss',patience = 3,mode = 'auto')"
      ],
      "id": "7Kf0OroBjB4_"
    },
    {
      "cell_type": "code",
      "execution_count": 71,
      "metadata": {
        "colab": {
          "base_uri": "https://localhost:8080/"
        },
        "id": "S2-if-9wfU0z",
        "outputId": "d615be89-6b84-462b-c01f-85ac0f11ecb0"
      },
      "outputs": [
        {
          "output_type": "stream",
          "name": "stdout",
          "text": [
            "Epoch 1/10\n",
            "168688/168688 [==============================] - 573s 3ms/step - loss: 0.5302 - accuracy: 0.9293 - val_loss: 0.5301 - val_accuracy: 0.9293\n",
            "Epoch 2/10\n",
            "168688/168688 [==============================] - 588s 3ms/step - loss: 0.5302 - accuracy: 0.9293 - val_loss: 0.5301 - val_accuracy: 0.9293\n",
            "Epoch 3/10\n",
            "168688/168688 [==============================] - 597s 4ms/step - loss: 0.5302 - accuracy: 0.9293 - val_loss: 0.5301 - val_accuracy: 0.9293\n",
            "Epoch 4/10\n",
            "168688/168688 [==============================] - 591s 4ms/step - loss: 0.5302 - accuracy: 0.9293 - val_loss: 0.5301 - val_accuracy: 0.9293\n",
            "Epoch 5/10\n",
            "168688/168688 [==============================] - 572s 3ms/step - loss: 0.5302 - accuracy: 0.9293 - val_loss: 0.5301 - val_accuracy: 0.9293\n"
          ]
        }
      ],
      "source": [
        "history = model.fit(X_train, y_train, batch_size=16, epochs=10, verbose=1, validation_data=(X_test, y_test),callbacks=[early_stopping],shuffle=True)"
      ],
      "id": "S2-if-9wfU0z"
    },
    {
      "cell_type": "code",
      "execution_count": 72,
      "metadata": {
        "colab": {
          "base_uri": "https://localhost:8080/"
        },
        "id": "2Q7u7BhLb9uX",
        "outputId": "77042820-b8de-42f4-c948-1fdcd88a3520"
      },
      "outputs": [
        {
          "output_type": "stream",
          "name": "stdout",
          "text": [
            "dict_keys(['loss', 'accuracy', 'val_loss', 'val_accuracy'])\n"
          ]
        }
      ],
      "source": [
        "print(history.history.keys())"
      ],
      "id": "2Q7u7BhLb9uX"
    },
    {
      "cell_type": "code",
      "execution_count": 73,
      "metadata": {
        "colab": {
          "base_uri": "https://localhost:8080/",
          "height": 295
        },
        "id": "zLfZ0uqLcHLI",
        "outputId": "722c0810-c585-46f3-aaf0-b39e60ea36b1"
      },
      "outputs": [
        {
          "output_type": "display_data",
          "data": {
            "text/plain": [
              "<Figure size 432x288 with 1 Axes>"
            ],
            "image/png": "[encoded data removed]"
          },
          "metadata": {
            "needs_background": "light"
          }
        }
      ],
      "source": [
        "#Plotting model loss\n",
        "plt.plot(history.history['loss'])\n",
        "plt.plot(history.history['val_loss'])\n",
        "plt.title('model loss')\n",
        "plt.ylabel('loss')\n",
        "plt.xlabel('epoch')\n",
        "plt.legend(['train', 'validation'], loc='upper left')\n",
        "plt.show()\n"
      ],
      "id": "zLfZ0uqLcHLI"
    },
    {
      "cell_type": "code",
      "execution_count": 74,
      "metadata": {
        "colab": {
          "base_uri": "https://localhost:8080/"
        },
        "id": "tFjr16FRf2sm",
        "outputId": "c730220f-2420-4de5-e97a-f496d8a27af9"
      },
      "outputs": [
        {
          "output_type": "stream",
          "name": "stdout",
          "text": [
            "36148/36148 [==============================] - 78s 2ms/step - loss: 0.5301 - accuracy: 0.9293\n",
            "Evaluation result on Test Data : Loss = 0.5301416516304016, Accuracy = 0.9293473958969116\n"
          ]
        }
      ],
      "source": [
        "# Model evaluation\n",
        "[test_loss, test_accuracy] = model.evaluate(X_test, y_test)\n",
        "print(\"Evaluation result on Test Data : Loss = {}, Accuracy = {}\".format(test_loss, test_accuracy))"
      ],
      "id": "tFjr16FRf2sm"
    }
  ],
  "metadata": {
    "accelerator": "GPU",
    "colab": {
      "provenance": []
    },
    "gpuClass": "standard",
    "kernelspec": {
      "display_name": "Python 3 (ipykernel)",
      "language": "python",
      "name": "python3"
    },
    "language_info": {
      "codemirror_mode": {
        "name": "ipython",
        "version": 3
      },
      "file_extension": ".py",
      "mimetype": "text/x-python",
      "name": "python",
      "nbconvert_exporter": "python",
      "pygments_lexer": "ipython3",
      "version": "3.9.13"
    }
  },
  "nbformat": 4,
  "nbformat_minor": 5
}